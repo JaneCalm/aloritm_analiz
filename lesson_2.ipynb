{
 "cells": [
  {
   "cell_type": "markdown",
   "metadata": {},
   "source": [
    " 1. Постройте график зависимости весов всех признаков от lambda в L2-регуляризации (на данных из урока)."
   ]
  },
  {
   "cell_type": "code",
   "execution_count": 1,
   "metadata": {},
   "outputs": [],
   "source": [
    "import numpy as np\n",
    "import matplotlib.pyplot as plt"
   ]
  },
  {
   "cell_type": "code",
   "execution_count": 2,
   "metadata": {},
   "outputs": [],
   "source": [
    "X = np.array([[1, 1, 1, 1, 1, 1, 1, 1, 1, 1],\n",
    "              [1, 1, 2, 1, 3, 0, 5, 10, 1, 2],\n",
    "              [500, 700, 750, 600, 1450,\n",
    "               800, 1500, 2000, 450, 1000],\n",
    "              [1, 1, 2, 1, 2, \n",
    "               1, 3, 3, 1, 2]])"
   ]
  },
  {
   "cell_type": "code",
   "execution_count": 3,
   "metadata": {},
   "outputs": [],
   "source": [
    "X_st = X.copy().astype(np.float64)\n",
    "\n",
    "y = [45, 55, 50, 59, 65,\n",
    "    35, 75, 80, 50, 60]"
   ]
  },
  {
   "cell_type": "code",
   "execution_count": 4,
   "metadata": {},
   "outputs": [],
   "source": [
    "def calc_std_feat(x):\n",
    "  res = (x - x.mean()) / x.std()\n",
    "  return res"
   ]
  },
  {
   "cell_type": "code",
   "execution_count": 5,
   "metadata": {},
   "outputs": [],
   "source": [
    "X_st[1] = calc_std_feat(X[1])\n",
    "X_st[2] = calc_std_feat(X[2])\n",
    "X_st[3] = calc_std_feat(X[3])"
   ]
  },
  {
   "cell_type": "code",
   "execution_count": 6,
   "metadata": {},
   "outputs": [],
   "source": [
    "def calc_mse(y, y_pred):\n",
    "  err = np.mean((y - y_pred)**2)\n",
    "  return err\n",
    "def eval_model_reg2(X, y, iterations, alpha=1e-4, lambda_=1e-8):\n",
    "  np.random.seed(42)\n",
    "  W = np.random.randn(X.shape[0])\n",
    "  n = X.shape[1]\n",
    "  for i in range(1, iterations+1):\n",
    "    y_pred = np.dot(W, X)\n",
    "    err = calc_mse(y, y_pred)\n",
    "    W -= alpha * (1/n * 2 * np.dot((y_pred - y), X.T) + lambda_ * W) \n",
    "    if i % (iterations / 10) == 0:\n",
    "      print(i, W, err)\n",
    "  return W"
   ]
  },
  {
   "cell_type": "code",
   "execution_count": 7,
   "metadata": {},
   "outputs": [
    {
     "name": "stdout",
     "output_type": "stream",
     "text": [
      "500 [57.39479705  5.10767868  2.46037345  4.08674902] 39.981664122534156\n",
      "1000 [57.39713005  5.765859    1.85689028  4.03893236] 39.80723120406397\n",
      "1500 [57.39713014  5.99060723  1.60529698  4.06885866] 39.78240504280034\n",
      "2000 [57.39713014  6.07152025  1.50155606  4.09300748] 39.7785235657889\n",
      "2500 [57.39713014  6.10185559  1.45905205  4.10572941] 39.777887486171274\n",
      "3000 [57.39713014  6.11355928  1.44170275  4.11160375] 39.777779304702605\n",
      "3500 [57.39713014  6.11816175  1.43463681  4.11416107] 39.77775983405892\n",
      "4000 [57.39713014  6.11999396  1.43176283  4.1152412 ] 39.777755943216036\n",
      "4500 [57.39713014  6.12072893  1.43059479  4.11568989] 39.77775502451418\n",
      "5000 [57.39713014  6.12102515  1.4301203   4.11587451] 39.77775476050766\n",
      "500 [57.38332572  5.10662251  2.46132815  4.08599345] 39.98229200003175\n",
      "1000 [57.38565349  5.76317218  1.85955446  4.03807747] 39.807832335731575\n",
      "1500 [57.38565359  5.98689514  1.6091706   4.06780457] 39.78283105813376\n",
      "2000 [57.38565359  6.06727215  1.50613375  4.0917763 ] 39.77883146770733\n",
      "2500 [57.38565359  6.09734467  1.46400239  4.10438352] 39.778137252210676\n",
      "3000 [57.38565359  6.10892334  1.44683955  4.11019397] 39.77800342199775\n",
      "3500 [57.38565359  6.11346743  1.43986353  4.11271857] 39.77797315650788\n",
      "4000 [57.38565359  6.11527274  1.43703179  4.11378277] 39.77796481900478\n",
      "4500 [57.38565359  6.11599548  1.43588323  4.11422397] 39.7779620864879\n",
      "5000 [57.38565359  6.11628618  1.43541759  4.11440515] 39.777961085844396\n",
      "500 [57.36899299  5.1053032   2.46251946  4.08505036] 39.98344844807892\n",
      "1000 [57.37131425  5.75982044  1.86287557  4.03701148] 39.808958277776156\n",
      "1500 [57.37131434  5.98226846  1.61399522  4.06649131] 39.78374222222052\n",
      "2000 [57.37131434  6.06198048  1.51183169  4.09024351] 39.779598109655716\n",
      "2500 [57.37131434  6.09172769  1.47016155  4.10270881] 39.77883304232006\n",
      "3000 [57.37131434  6.10315196  1.45322897  4.10844036] 39.77866808888386\n",
      "3500 [57.37131434  6.10762411  1.44636373  4.11092464] 39.778624783160765\n",
      "4000 [57.37131434  6.10939637  1.44358392  4.11196928] 39.77861109848802\n",
      "4500 [57.37131434  6.11010409  1.44245925  4.11240129] 39.778606194830765\n",
      "5000 [57.37131434  6.11038803  1.44200443  4.11257825] 39.778604316493336\n",
      "500 [57.25458798  5.09478505  2.47196781  4.07755948] 40.00749163488452\n",
      "1000 [57.25685776  5.7332753   1.88908321  4.02858758] 39.832871059556865\n",
      "1500 [57.25685786  5.94578485  1.65190652  4.05615666] 39.80609476720662\n",
      "2000 [57.25685786  6.02037241  1.55646676  4.07822343] 39.80091264666548\n",
      "2500 [57.25685786  6.04764108  1.51830855  4.0896095 ] 39.799648745788645\n",
      "3000 [57.25685786  6.05790214  1.50310998  4.09474736] 39.79926942934297\n",
      "3500 [57.25685786  6.06183837  1.49706987  4.09693146] 39.7991383333328\n",
      "4000 [57.25685786  6.06336709  1.49467266  4.09783195] 39.799089478054505\n",
      "4500 [57.25685786  6.06396539  1.493722    4.09819702] 39.799070626594634\n",
      "5000 [57.25685786  6.06420066  1.49334518  4.09834362] 39.799063242439374\n",
      "500 [57.11222071  5.08172766  2.48357519  4.06832867] 40.07417608381877\n",
      "1000 [57.11442777  5.70075336  1.92095868  4.01831082] 39.899660683649145\n",
      "1500 [57.11442786  5.90146892  1.6976314   4.0436524 ] 39.87129828723978\n",
      "2000 [57.11442786  5.97011421  1.60997397  4.06377946] 39.865084301172814\n",
      "2500 [57.11442786  5.994574    1.57579107  4.07394724] 39.863345861392546\n",
      "3000 [57.11442786  6.00354651  1.56251196  4.07842886] 39.86277261135838\n",
      "3500 [57.11442786  6.00690234  1.55736505  4.08028829] 39.86256626396754\n",
      "4000 [57.11442786  6.00817319  1.55537282  4.08103626] 39.862488933321984\n",
      "4500 [57.11442786  6.00865821  1.5546023   4.08133207] 39.86245944706353\n",
      "5000 [57.11442786  6.0088442   1.55430443  4.08144793] 39.8624481215128\n",
      "500 [55.99823584  4.98079253  2.56877235  3.99940775] 42.00354982246501\n",
      "1000 [55.99999994  5.46458523  2.14416897  3.94497073] 41.83785195530744\n",
      "1500 [56.          5.59187802  2.00593436  3.95758919] 41.80649465459134\n",
      "2000 [56.          5.62726219  1.96147509  3.96722734] 41.798311532082366\n",
      "2500 [56.          5.63752852  1.94727617  3.97134417] 41.79591322782842\n",
      "3000 [56.          5.6405999   1.94276012  3.97284828] 41.79517888308323\n",
      "3500 [56.          5.6415379   1.94132726  3.97336216] 41.79495012883705\n",
      "4000 [56.          5.64182819  1.9408733   3.97353188] 41.79487834549623\n",
      "4500 [56.          5.64191878  1.9407296   3.97358692] 41.7948557423634\n",
      "5000 [56.          5.64194719  1.94068413  3.97360458] 41.79484861263852\n"
     ]
    }
   ],
   "source": [
    "lambdas = [0.0001, 0.0005, 0.001, 0.005, 0.01, 0.05]\n",
    "w0 = []\n",
    "w1 = []\n",
    "w2 = []\n",
    "w3 = []\n",
    "\n",
    "for lam in lambdas:\n",
    "    w = eval_model_reg2(X_st, y, iterations=5000, alpha=1e-2, lambda_ = lam)\n",
    "    w0.append(w[0])\n",
    "    w1.append(w[1])\n",
    "    w2.append(w[2])\n",
    "    w3.append(w[3])"
   ]
  },
  {
   "cell_type": "code",
   "execution_count": 8,
   "metadata": {},
   "outputs": [
    {
     "data": {
      "text/plain": [
       "[<matplotlib.lines.Line2D at 0x7f2236b13590>]"
      ]
     },
     "execution_count": 8,
     "metadata": {},
     "output_type": "execute_result"
    },
    {
     "data": {
      "image/png": "[encoded data removed]",
      "text/plain": [
       "<Figure size 432x288 with 1 Axes>"
      ]
     },
     "metadata": {
      "needs_background": "light"
     },
     "output_type": "display_data"
    }
   ],
   "source": [
    "plt.plot(lambdas, w0)\n",
    "plt.plot(lambdas, w1)\n",
    "plt.plot(lambdas, w2)\n",
    "plt.plot(lambdas, w3)"
   ]
  },
  {
   "cell_type": "markdown",
   "metadata": {},
   "source": [
    " 2. Можно ли к одному и тому же признаку применить сразу и нормализацию, и стандартизацию?"
   ]
  },
  {
   "cell_type": "markdown",
   "metadata": {},
   "source": [
    "Можно, но они будут схожи"
   ]
  },
  {
   "cell_type": "code",
   "execution_count": null,
   "metadata": {},
   "outputs": [],
   "source": []
  }
 ],
 "metadata": {
  "kernelspec": {
   "display_name": "Python 3",
   "language": "python",
   "name": "python3"
  },
  "language_info": {
   "codemirror_mode": {
    "name": "ipython",
    "version": 3
   },
   "file_extension": ".py",
   "mimetype": "text/x-python",
   "name": "python",
   "nbconvert_exporter": "python",
   "pygments_lexer": "ipython3",
   "version": "3.7.6"
  }
 },
 "nbformat": 4,
 "nbformat_minor": 2
}
