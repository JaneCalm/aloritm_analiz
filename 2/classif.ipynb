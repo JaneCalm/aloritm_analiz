{
 "cells": [
  {
   "cell_type": "code",
   "execution_count": 1,
   "metadata": {},
   "outputs": [],
   "source": [
    "import numpy as np\n",
    "import matplotlib.pyplot as plt\n",
    "import pandas as pd\n",
    "from sklearn.model_selection import train_test_split\n",
    "import sys\n",
    "import seaborn as sns\n",
    "TRAIN_DATASET_PATH = 'train.csv'\n",
    "TEST_DATASET_PATH = 'test.csv'"
   ]
  },
  {
   "cell_type": "code",
   "execution_count": 2,
   "metadata": {},
   "outputs": [
    {
     "data": {
      "text/html": [
       "<div>\n",
       "<style scoped>\n",
       "    .dataframe tbody tr th:only-of-type {\n",
       "        vertical-align: middle;\n",
       "    }\n",
       "\n",
       "    .dataframe tbody tr th {\n",
       "        vertical-align: top;\n",
       "    }\n",
       "\n",
       "    .dataframe thead th {\n",
       "        text-align: right;\n",
       "    }\n",
       "</style>\n",
       "<table border=\"1\" class=\"dataframe\">\n",
       "  <thead>\n",
       "    <tr style=\"text-align: right;\">\n",
       "      <th></th>\n",
       "      <th>Id</th>\n",
       "      <th>age</th>\n",
       "      <th>years_of_experience</th>\n",
       "      <th>lesson_price</th>\n",
       "      <th>qualification</th>\n",
       "      <th>physics</th>\n",
       "      <th>chemistry</th>\n",
       "      <th>biology</th>\n",
       "      <th>english</th>\n",
       "      <th>geography</th>\n",
       "      <th>history</th>\n",
       "      <th>mean_exam_points</th>\n",
       "      <th>choose</th>\n",
       "    </tr>\n",
       "  </thead>\n",
       "  <tbody>\n",
       "    <tr>\n",
       "      <th>0</th>\n",
       "      <td>0</td>\n",
       "      <td>35.0</td>\n",
       "      <td>0.0</td>\n",
       "      <td>2150.0</td>\n",
       "      <td>2.0</td>\n",
       "      <td>0.0</td>\n",
       "      <td>0.0</td>\n",
       "      <td>0.0</td>\n",
       "      <td>0.0</td>\n",
       "      <td>0.0</td>\n",
       "      <td>0.0</td>\n",
       "      <td>74.0</td>\n",
       "      <td>0</td>\n",
       "    </tr>\n",
       "    <tr>\n",
       "      <th>1</th>\n",
       "      <td>1</td>\n",
       "      <td>52.0</td>\n",
       "      <td>2.0</td>\n",
       "      <td>1250.0</td>\n",
       "      <td>2.0</td>\n",
       "      <td>1.0</td>\n",
       "      <td>0.0</td>\n",
       "      <td>1.0</td>\n",
       "      <td>0.0</td>\n",
       "      <td>0.0</td>\n",
       "      <td>1.0</td>\n",
       "      <td>57.0</td>\n",
       "      <td>1</td>\n",
       "    </tr>\n",
       "    <tr>\n",
       "      <th>2</th>\n",
       "      <td>2</td>\n",
       "      <td>29.0</td>\n",
       "      <td>3.0</td>\n",
       "      <td>1750.0</td>\n",
       "      <td>1.0</td>\n",
       "      <td>1.0</td>\n",
       "      <td>0.0</td>\n",
       "      <td>0.0</td>\n",
       "      <td>0.0</td>\n",
       "      <td>0.0</td>\n",
       "      <td>0.0</td>\n",
       "      <td>66.0</td>\n",
       "      <td>0</td>\n",
       "    </tr>\n",
       "    <tr>\n",
       "      <th>3</th>\n",
       "      <td>3</td>\n",
       "      <td>33.0</td>\n",
       "      <td>3.0</td>\n",
       "      <td>1050.0</td>\n",
       "      <td>1.0</td>\n",
       "      <td>0.0</td>\n",
       "      <td>0.0</td>\n",
       "      <td>0.0</td>\n",
       "      <td>0.0</td>\n",
       "      <td>0.0</td>\n",
       "      <td>0.0</td>\n",
       "      <td>66.0</td>\n",
       "      <td>1</td>\n",
       "    </tr>\n",
       "    <tr>\n",
       "      <th>4</th>\n",
       "      <td>4</td>\n",
       "      <td>46.0</td>\n",
       "      <td>3.0</td>\n",
       "      <td>2250.0</td>\n",
       "      <td>2.0</td>\n",
       "      <td>1.0</td>\n",
       "      <td>0.0</td>\n",
       "      <td>0.0</td>\n",
       "      <td>0.0</td>\n",
       "      <td>0.0</td>\n",
       "      <td>0.0</td>\n",
       "      <td>73.0</td>\n",
       "      <td>0</td>\n",
       "    </tr>\n",
       "  </tbody>\n",
       "</table>\n",
       "</div>"
      ],
      "text/plain": [
       "   Id   age  years_of_experience  lesson_price  qualification  physics  \\\n",
       "0   0  35.0                  0.0        2150.0            2.0      0.0   \n",
       "1   1  52.0                  2.0        1250.0            2.0      1.0   \n",
       "2   2  29.0                  3.0        1750.0            1.0      1.0   \n",
       "3   3  33.0                  3.0        1050.0            1.0      0.0   \n",
       "4   4  46.0                  3.0        2250.0            2.0      1.0   \n",
       "\n",
       "   chemistry  biology  english  geography  history  mean_exam_points  choose  \n",
       "0        0.0      0.0      0.0        0.0      0.0              74.0       0  \n",
       "1        0.0      1.0      0.0        0.0      1.0              57.0       1  \n",
       "2        0.0      0.0      0.0        0.0      0.0              66.0       0  \n",
       "3        0.0      0.0      0.0        0.0      0.0              66.0       1  \n",
       "4        0.0      0.0      0.0        0.0      0.0              73.0       0  "
      ]
     },
     "metadata": {},
     "output_type": "display_data"
    },
    {
     "name": "stdout",
     "output_type": "stream",
     "text": [
      "(10000, 13)\n"
     ]
    }
   ],
   "source": [
    "df = pd.read_csv(TRAIN_DATASET_PATH)\n",
    "display(df.head())\n",
    "print(df.shape)"
   ]
  },
  {
   "cell_type": "code",
   "execution_count": 3,
   "metadata": {},
   "outputs": [],
   "source": [
    "df_test = pd.read_csv(TEST_DATASET_PATH)\n",
    "df['inter']=1\n",
    "df_test['inter']=1"
   ]
  },
  {
   "cell_type": "code",
   "execution_count": 4,
   "metadata": {},
   "outputs": [
    {
     "name": "stdout",
     "output_type": "stream",
     "text": [
      "(10000, 12) (10000,)\n"
     ]
    }
   ],
   "source": [
    "TARGET_NAME = 'choose'\n",
    "FEATURE_NAMES = ['inter', 'age', 'years_of_experience', 'lesson_price', 'qualification',\n",
    "       'physics', 'chemistry', 'biology', 'english', 'geography', 'history', 'mean_exam_points']\n",
    "X = df[FEATURE_NAMES].values\n",
    "Y = df[TARGET_NAME].values\n",
    "index = df['Id'].values\n",
    "X_test_result = df_test[FEATURE_NAMES].values\n",
    "\n",
    "print(X.shape, Y.shape)"
   ]
  },
  {
   "cell_type": "code",
   "execution_count": 5,
   "metadata": {},
   "outputs": [],
   "source": [
    "def calc_std_feat(x):\n",
    "    res = (x - x.mean()) / x.std()\n",
    "    return res"
   ]
  },
  {
   "cell_type": "code",
   "execution_count": 6,
   "metadata": {},
   "outputs": [],
   "source": [
    "def loss_function(x):\n",
    "    return 0 if x > 0 else 1"
   ]
  },
  {
   "cell_type": "code",
   "execution_count": 7,
   "metadata": {},
   "outputs": [],
   "source": [
    "def exp_loss_func(x):\n",
    "    return np.exp(-x)\n",
    "def square_loss(x):\n",
    "    return (1 - x) ** 2\n",
    "def logistic_loss(x):\n",
    "    return np.log2(1 + np.exp(-x))"
   ]
  },
  {
   "cell_type": "code",
   "execution_count": 8,
   "metadata": {},
   "outputs": [],
   "source": [
    "def sigmoid(x):\n",
    "    return 1 / (1 + np.exp(-x))"
   ]
  },
  {
   "cell_type": "code",
   "execution_count": 9,
   "metadata": {},
   "outputs": [
    {
     "name": "stdout",
     "output_type": "stream",
     "text": [
      "Размер массива признаков обучающей выборки (7000, 12)\n",
      "Размер массива признаков тестовой выборки (3000, 12)\n",
      "Размер массива ответов для обучающей выборки (7000,)\n",
      "Размер массива ответов для тестовой выборки (3000,)\n"
     ]
    }
   ],
   "source": [
    "# перемешивание датасета\n",
    "np.random.seed(42)\n",
    "shuffle_index = np.random.permutation(index.shape[0])\n",
    "X_shuffled, y_shuffled = X[shuffle_index], Y[shuffle_index]\n",
    "\n",
    "# разбивка на обучающую и тестовую выборки\n",
    "train_proportion = 0.7\n",
    "train_test_cut = int(len(X) * train_proportion)\n",
    "\n",
    "X_train, X_test, y_train, y_test = \\\n",
    "    X_shuffled[:train_test_cut], \\\n",
    "    X_shuffled[train_test_cut:], \\\n",
    "    y_shuffled[:train_test_cut], \\\n",
    "    y_shuffled[train_test_cut:]\n",
    "    \n",
    "print(\"Размер массива признаков обучающей выборки\", X_train.shape)\n",
    "print(\"Размер массива признаков тестовой выборки\", X_test.shape)\n",
    "print(\"Размер массива ответов для обучающей выборки\", y_train.shape)\n",
    "print(\"Размер массива ответов для тестовой выборки\", y_test.shape)"
   ]
  },
  {
   "cell_type": "code",
   "execution_count": 10,
   "metadata": {},
   "outputs": [
    {
     "data": {
      "text/plain": [
       "array([[ 1.,  1.,  1., ...,  1.,  1.,  1.],\n",
       "       [59., 46., 53., ..., 43., 51., 35.],\n",
       "       [ 0.,  0.,  1., ...,  0.,  0.,  1.],\n",
       "       ...,\n",
       "       [ 0.,  0.,  0., ...,  1.,  0.,  0.],\n",
       "       [ 0.,  0.,  0., ...,  0.,  0.,  0.],\n",
       "       [85., 53., 52., ..., 79., 60., 54.]])"
      ]
     },
     "execution_count": 10,
     "metadata": {},
     "output_type": "execute_result"
    }
   ],
   "source": [
    "X_train_tr = X_train.transpose()\n",
    "y_train_tr = y_train.reshape(1, y_train.shape[0])\n",
    "X_test_tr = X_test.transpose()\n",
    "y_test_tr = y_test.reshape(1, y_test.shape[0])\n",
    "X_train_tr"
   ]
  },
  {
   "cell_type": "code",
   "execution_count": 11,
   "metadata": {},
   "outputs": [],
   "source": [
    "X_st = X_train_tr.copy()\n",
    "X_st[1, :] = calc_std_feat(X_train_tr[1, :])\n",
    "X_st[3, :] = calc_std_feat(X_train_tr[3, :])\n",
    "X_st[11, :] = calc_std_feat(X_train_tr[11, :])\n",
    "X_test_st = X_test_tr.copy()\n",
    "X_test_st[1, :] = calc_std_feat(X_test_tr[1, :])\n",
    "X_test_st[3, :] = calc_std_feat(X_test_tr[3, :])\n",
    "X_test_st[11, :] = calc_std_feat(X_test_tr[11, :])"
   ]
  },
  {
   "cell_type": "code",
   "execution_count": 12,
   "metadata": {},
   "outputs": [],
   "source": [
    "def log_loss(w, X, y):\n",
    "    m = X.shape[1]\n",
    "    # используем функцию сигмоиды, написанную ранее\n",
    "    A = sigmoid(np.dot(w.T, X))    \n",
    "    loss = -1.0 / m * np.sum(y * np.log(A) + (1 - y) * np.log(1 - A))\n",
    "    loss = np.squeeze(loss)\n",
    "    grad = 1.0 / m * np.dot(X, (A - y).T)    \n",
    "    return loss, grad"
   ]
  },
  {
   "cell_type": "code",
   "execution_count": 13,
   "metadata": {},
   "outputs": [],
   "source": [
    "def optimize(w, X, y, n_iterations, eta):\n",
    "#     потери будем записывать в список для отображения в виде графика\n",
    "    losses = []   \n",
    "    for i in range(n_iterations):        \n",
    "        loss, grad = log_loss(w, X, y)\n",
    "        w = w - eta * grad\n",
    "        losses.append(loss)        \n",
    "    return w, losses"
   ]
  },
  {
   "cell_type": "code",
   "execution_count": 14,
   "metadata": {},
   "outputs": [],
   "source": [
    "def predict(w, X):    \n",
    "    m = X.shape[1] \n",
    "    y_predicted = np.zeros((1, m))\n",
    "    w = w.reshape(X.shape[0], 1)\n",
    "    A = sigmoid(np.dot(w.T, X))  \n",
    "#     За порог отнесения к тому или иному классу примем вероятность 0.5\n",
    "#    for i in range(A.shape[1]):\n",
    "#        if (A[:,i] > 0.5): \n",
    "#            y_predicted[:, i] = 1\n",
    "#        elif (A[:,i] <= 0.5):\n",
    "#            y_predicted[:, i] = 0    \n",
    "    for i in range(A.shape[1]):\n",
    "        y_predicted[:, i] = A[:,i]\n",
    "    return y_predicted"
   ]
  },
  {
   "cell_type": "code",
   "execution_count": 15,
   "metadata": {},
   "outputs": [],
   "source": [
    "def calc_logloss(y, y_pred):\n",
    "    err = - np.mean(y * np.log(y_pred + 1e-12) + (1.0 - y) * np.log(1.0 - y_pred - 1e-12))\n",
    "    return err\n",
    "def eval_model(X, y, iterations, alpha=1e-4, lambda_=1e-8):\n",
    "    np.random.seed(13)\n",
    "    W = np.random.randn(X.shape[0])\n",
    "    n = X.shape[1]\n",
    "    for i in range(1, iterations+1):\n",
    "        z = np.dot(W, X)\n",
    "        y_pred = sigmoid(z)\n",
    "        err = calc_logloss(y, y_pred)\n",
    "        W -= alpha * (1/n * 2 * np.dot((y_pred - y), X.T) + lambda_ * W) \n",
    "        if i % (iterations / 10) == 0:\n",
    "            print(i, W, err)\n",
    "    return W"
   ]
  },
  {
   "cell_type": "code",
   "execution_count": 16,
   "metadata": {},
   "outputs": [
    {
     "name": "stdout",
     "output_type": "stream",
     "text": [
      "Итоговый вектор весов w: [[-1.29378589e+00]\n",
      " [ 3.22823036e-02]\n",
      " [-4.14380986e-02]\n",
      " [-7.34722718e-01]\n",
      " [-5.81716035e-01]\n",
      " [ 3.25211399e-01]\n",
      " [ 2.06142270e-01]\n",
      " [ 1.99518951e-01]\n",
      " [ 1.74923983e-04]\n",
      " [ 2.65780982e-03]\n",
      " [-4.85705829e-02]\n",
      " [ 1.20786028e+00]]\n",
      "Точность на обучающей выборке: 81.272\n",
      "Точность на тестовой выборке: 80.765\n"
     ]
    }
   ],
   "source": [
    "# иницилизируем начальный вектор весов\n",
    "w0 = np.zeros((X_st.shape[0], 1))\n",
    "n_iterations = 1000\n",
    "eta = 0.05\n",
    "w, losses = optimize(w0, X_st, y_train_tr, n_iterations, eta)\n",
    "y_predicted_test = predict(w, X_test_st)\n",
    "y_predicted_train = predict(w, X_st)\n",
    "# В качестве меры точности возьмем долю правильных ответов\n",
    "train_accuracy = 100.0 - np.mean(np.abs(y_predicted_train - y_train_tr)*100.0)\n",
    "test_accuracy = 100.0 - np.mean(np.abs(y_predicted_test-y_test_tr)*100.0)\n",
    "print(f\"Итоговый вектор весов w: {w}\")\n",
    "print(f\"Точность на обучающей выборке: {train_accuracy:.3f}\")\n",
    "print(f\"Точность на тестовой выборке: {test_accuracy:.3f}\")"
   ]
  },
  {
   "cell_type": "code",
   "execution_count": 17,
   "metadata": {},
   "outputs": [],
   "source": [
    "X_test_result = X_test_result.transpose()\n",
    "X_test_result_st = X_test_result.copy()\n",
    "X_test_result_st[1, :] = calc_std_feat(X_test_result[1, :])\n",
    "X_test_result_st[3, :] = calc_std_feat(X_test_result[3, :])\n",
    "X_test_result_st[11, :] = calc_std_feat(X_test_result[11, :])"
   ]
  },
  {
   "cell_type": "code",
   "execution_count": 18,
   "metadata": {},
   "outputs": [],
   "source": [
    "#y_result = predict(w, X_test_result_st)"
   ]
  },
  {
   "cell_type": "code",
   "execution_count": 19,
   "metadata": {},
   "outputs": [],
   "source": [
    "#submissions = pd.concat([df_test['Id'], pd.Series(y_result[0])], axis=1)"
   ]
  },
  {
   "cell_type": "code",
   "execution_count": 20,
   "metadata": {},
   "outputs": [],
   "source": [
    "#submissions = submissions.rename(columns={0: 'choose'})"
   ]
  },
  {
   "cell_type": "code",
   "execution_count": 21,
   "metadata": {},
   "outputs": [],
   "source": [
    "#submissions.to_csv('Kalmina_classif_log.csv',index=None)"
   ]
  },
  {
   "cell_type": "code",
   "execution_count": 22,
   "metadata": {},
   "outputs": [
    {
     "name": "stdout",
     "output_type": "stream",
     "text": [
      "50000 [-6.31143367  0.02311878 -0.04091199 -2.89982365  1.56962745  0.91712293\n",
      "  0.82595176  0.79399108  0.34910965  0.28899744 -0.31200464  1.59661598] 0.24818496957798125\n",
      "100000 [-6.51074395  0.02308624 -0.04129993 -2.97738591  1.64895903  0.94438214\n",
      "  0.84502024  0.81367409  0.36497753  0.34707359 -0.14533591  1.60423438] 0.2481034820638519\n",
      "150000 [-6.5246305   0.02306773 -0.04128928 -2.98265411  1.65433224  0.94612292\n",
      "  0.84626221  0.81514822  0.36588188  0.35024221 -0.10751512  1.6047252 ] 0.24810207678392018\n",
      "200000 [-6.52589647  0.023063   -0.04128122 -2.98310224  1.65479703  0.94625809\n",
      "  0.8463595   0.81530143  0.36592886  0.35051641 -0.09972308  1.60475247] 0.24810202600137893\n",
      "250000 [-6.5260594   0.02306199 -0.04127926 -2.98315564  1.65485358  0.94627248\n",
      "  0.84636994  0.81532362  0.36593033  0.35055243 -0.09815718  1.60475362] 0.24810202399231576\n",
      "300000 [-6.52608653  0.02306178 -0.04127885 -2.98316414  1.65486269  0.9462746\n",
      "  0.84637148  0.81532754  0.36593015  0.35055854 -0.09784451  1.60475359] 0.24810202391183198\n",
      "350000 [-6.52609161  0.02306174 -0.04127876 -2.9831657   1.65486437  0.94627498\n",
      "  0.84637176  0.8153283   0.36593009  0.3505597  -0.09778218  1.60475357] 0.2481020239084958\n",
      "400000 [-6.52609261  0.02306173 -0.04127875 -2.98316601  1.6548647   0.94627505\n",
      "  0.84637181  0.81532844  0.36593008  0.35055993 -0.09776976  1.60475356] 0.24810202390833547\n",
      "450000 [-6.5260928   0.02306173 -0.04127874 -2.98316607  1.65486477  0.94627506\n",
      "  0.84637182  0.81532847  0.36593007  0.35055997 -0.09776728  1.60475356] 0.2481020239083236\n",
      "500000 [-6.52609284  0.02306173 -0.04127874 -2.98316608  1.65486478  0.94627507\n",
      "  0.84637182  0.81532848  0.36593007  0.35055998 -0.09776679  1.60475356] 0.24810202390832195\n"
     ]
    }
   ],
   "source": [
    "W = eval_model(X_st, y_train_tr[0], iterations=500000, alpha=0.015)"
   ]
  },
  {
   "cell_type": "code",
   "execution_count": 23,
   "metadata": {},
   "outputs": [],
   "source": [
    "y_result_two = predict(W, X_test_result_st)"
   ]
  },
  {
   "cell_type": "code",
   "execution_count": 24,
   "metadata": {},
   "outputs": [],
   "source": [
    "submissions_two = pd.concat([df_test['Id'], pd.Series(y_result_two[0])], axis=1)\n",
    "submissions_two = submissions_two.rename(columns={0: 'choose'})\n",
    "submissions_two.to_csv('Kalmina_classif_log_two_test.csv',index=None)"
   ]
  },
  {
   "cell_type": "code",
   "execution_count": 25,
   "metadata": {},
   "outputs": [
    {
     "data": {
      "text/plain": [
       "array([[0.013436  , 0.18846915, 0.01224849, ..., 0.32036361, 0.90916409,\n",
       "        0.02031071]])"
      ]
     },
     "execution_count": 25,
     "metadata": {},
     "output_type": "execute_result"
    }
   ],
   "source": [
    "y_result_two"
   ]
  },
  {
   "cell_type": "code",
   "execution_count": null,
   "metadata": {},
   "outputs": [],
   "source": []
  }
 ],
 "metadata": {
  "kernelspec": {
   "display_name": "Python 3",
   "language": "python",
   "name": "python3"
  },
  "language_info": {
   "codemirror_mode": {
    "name": "ipython",
    "version": 3
   },
   "file_extension": ".py",
   "mimetype": "text/x-python",
   "name": "python",
   "nbconvert_exporter": "python",
   "pygments_lexer": "ipython3",
   "version": "3.7.6"
  }
 },
 "nbformat": 4,
 "nbformat_minor": 4
}
