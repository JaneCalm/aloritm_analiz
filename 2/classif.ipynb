{
 "cells": [
  {
   "cell_type": "code",
   "execution_count": 1,
   "metadata": {},
   "outputs": [],
   "source": [
    "import numpy as np\n",
    "import matplotlib.pyplot as plt\n",
    "import pandas as pd\n",
    "from sklearn.model_selection import train_test_split\n",
    "import sys\n",
    "import seaborn as sns\n",
    "TRAIN_DATASET_PATH = 'train.csv'\n",
    "TEST_DATASET_PATH = 'test.csv'"
   ]
  },
  {
   "cell_type": "code",
   "execution_count": 2,
   "metadata": {},
   "outputs": [
    {
     "data": {
      "text/html": [
       "<div>\n",
       "<style scoped>\n",
       "    .dataframe tbody tr th:only-of-type {\n",
       "        vertical-align: middle;\n",
       "    }\n",
       "\n",
       "    .dataframe tbody tr th {\n",
       "        vertical-align: top;\n",
       "    }\n",
       "\n",
       "    .dataframe thead th {\n",
       "        text-align: right;\n",
       "    }\n",
       "</style>\n",
       "<table border=\"1\" class=\"dataframe\">\n",
       "  <thead>\n",
       "    <tr style=\"text-align: right;\">\n",
       "      <th></th>\n",
       "      <th>Id</th>\n",
       "      <th>age</th>\n",
       "      <th>years_of_experience</th>\n",
       "      <th>lesson_price</th>\n",
       "      <th>qualification</th>\n",
       "      <th>physics</th>\n",
       "      <th>chemistry</th>\n",
       "      <th>biology</th>\n",
       "      <th>english</th>\n",
       "      <th>geography</th>\n",
       "      <th>history</th>\n",
       "      <th>mean_exam_points</th>\n",
       "      <th>choose</th>\n",
       "    </tr>\n",
       "  </thead>\n",
       "  <tbody>\n",
       "    <tr>\n",
       "      <th>0</th>\n",
       "      <td>0</td>\n",
       "      <td>35.0</td>\n",
       "      <td>0.0</td>\n",
       "      <td>2150.0</td>\n",
       "      <td>2.0</td>\n",
       "      <td>0.0</td>\n",
       "      <td>0.0</td>\n",
       "      <td>0.0</td>\n",
       "      <td>0.0</td>\n",
       "      <td>0.0</td>\n",
       "      <td>0.0</td>\n",
       "      <td>74.0</td>\n",
       "      <td>0</td>\n",
       "    </tr>\n",
       "    <tr>\n",
       "      <th>1</th>\n",
       "      <td>1</td>\n",
       "      <td>52.0</td>\n",
       "      <td>2.0</td>\n",
       "      <td>1250.0</td>\n",
       "      <td>2.0</td>\n",
       "      <td>1.0</td>\n",
       "      <td>0.0</td>\n",
       "      <td>1.0</td>\n",
       "      <td>0.0</td>\n",
       "      <td>0.0</td>\n",
       "      <td>1.0</td>\n",
       "      <td>57.0</td>\n",
       "      <td>1</td>\n",
       "    </tr>\n",
       "    <tr>\n",
       "      <th>2</th>\n",
       "      <td>2</td>\n",
       "      <td>29.0</td>\n",
       "      <td>3.0</td>\n",
       "      <td>1750.0</td>\n",
       "      <td>1.0</td>\n",
       "      <td>1.0</td>\n",
       "      <td>0.0</td>\n",
       "      <td>0.0</td>\n",
       "      <td>0.0</td>\n",
       "      <td>0.0</td>\n",
       "      <td>0.0</td>\n",
       "      <td>66.0</td>\n",
       "      <td>0</td>\n",
       "    </tr>\n",
       "    <tr>\n",
       "      <th>3</th>\n",
       "      <td>3</td>\n",
       "      <td>33.0</td>\n",
       "      <td>3.0</td>\n",
       "      <td>1050.0</td>\n",
       "      <td>1.0</td>\n",
       "      <td>0.0</td>\n",
       "      <td>0.0</td>\n",
       "      <td>0.0</td>\n",
       "      <td>0.0</td>\n",
       "      <td>0.0</td>\n",
       "      <td>0.0</td>\n",
       "      <td>66.0</td>\n",
       "      <td>1</td>\n",
       "    </tr>\n",
       "    <tr>\n",
       "      <th>4</th>\n",
       "      <td>4</td>\n",
       "      <td>46.0</td>\n",
       "      <td>3.0</td>\n",
       "      <td>2250.0</td>\n",
       "      <td>2.0</td>\n",
       "      <td>1.0</td>\n",
       "      <td>0.0</td>\n",
       "      <td>0.0</td>\n",
       "      <td>0.0</td>\n",
       "      <td>0.0</td>\n",
       "      <td>0.0</td>\n",
       "      <td>73.0</td>\n",
       "      <td>0</td>\n",
       "    </tr>\n",
       "  </tbody>\n",
       "</table>\n",
       "</div>"
      ],
      "text/plain": [
       "   Id   age  years_of_experience  lesson_price  qualification  physics  \\\n",
       "0   0  35.0                  0.0        2150.0            2.0      0.0   \n",
       "1   1  52.0                  2.0        1250.0            2.0      1.0   \n",
       "2   2  29.0                  3.0        1750.0            1.0      1.0   \n",
       "3   3  33.0                  3.0        1050.0            1.0      0.0   \n",
       "4   4  46.0                  3.0        2250.0            2.0      1.0   \n",
       "\n",
       "   chemistry  biology  english  geography  history  mean_exam_points  choose  \n",
       "0        0.0      0.0      0.0        0.0      0.0              74.0       0  \n",
       "1        0.0      1.0      0.0        0.0      1.0              57.0       1  \n",
       "2        0.0      0.0      0.0        0.0      0.0              66.0       0  \n",
       "3        0.0      0.0      0.0        0.0      0.0              66.0       1  \n",
       "4        0.0      0.0      0.0        0.0      0.0              73.0       0  "
      ]
     },
     "metadata": {},
     "output_type": "display_data"
    },
    {
     "name": "stdout",
     "output_type": "stream",
     "text": [
      "(10000, 13)\n"
     ]
    }
   ],
   "source": [
    "df = pd.read_csv(TRAIN_DATASET_PATH)\n",
    "display(df.head())\n",
    "print(df.shape)"
   ]
  },
  {
   "cell_type": "code",
   "execution_count": 3,
   "metadata": {},
   "outputs": [],
   "source": [
    "df_test = pd.read_csv(TEST_DATASET_PATH)\n",
    "df['inter']=1\n",
    "df_test['inter']=1"
   ]
  },
  {
   "cell_type": "code",
   "execution_count": 4,
   "metadata": {},
   "outputs": [
    {
     "name": "stdout",
     "output_type": "stream",
     "text": [
      "(10000, 12) (10000,)\n"
     ]
    }
   ],
   "source": [
    "TARGET_NAME = 'choose'\n",
    "FEATURE_NAMES = ['inter', 'age', 'years_of_experience', 'lesson_price', 'qualification',\n",
    "       'physics', 'chemistry', 'biology', 'english', 'geography', 'history', 'mean_exam_points']\n",
    "X = df[FEATURE_NAMES].values\n",
    "Y = df[TARGET_NAME].values\n",
    "index = df['Id'].values\n",
    "X_test_result = df_test[FEATURE_NAMES].values\n",
    "\n",
    "print(X.shape, Y.shape)"
   ]
  },
  {
   "cell_type": "code",
   "execution_count": 5,
   "metadata": {},
   "outputs": [],
   "source": [
    "def calc_std_feat(x):\n",
    "    res = (x - x.mean()) / x.std()\n",
    "    return res"
   ]
  },
  {
   "cell_type": "code",
   "execution_count": 6,
   "metadata": {},
   "outputs": [],
   "source": [
    "def loss_function(x):\n",
    "    return 0 if x > 0 else 1"
   ]
  },
  {
   "cell_type": "code",
   "execution_count": 7,
   "metadata": {},
   "outputs": [],
   "source": [
    "def exp_loss_func(x):\n",
    "    return np.exp(-x)\n",
    "def square_loss(x):\n",
    "    return (1 - x) ** 2\n",
    "def logistic_loss(x):\n",
    "    return np.log2(1 + np.exp(-x))"
   ]
  },
  {
   "cell_type": "code",
   "execution_count": 8,
   "metadata": {},
   "outputs": [],
   "source": [
    "def sigmoid(x):\n",
    "    return 1 / (1 + np.exp(-x))"
   ]
  },
  {
   "cell_type": "code",
   "execution_count": 9,
   "metadata": {},
   "outputs": [
    {
     "name": "stdout",
     "output_type": "stream",
     "text": [
      "Размер массива признаков обучающей выборки (7000, 12)\n",
      "Размер массива признаков тестовой выборки (3000, 12)\n",
      "Размер массива ответов для обучающей выборки (7000,)\n",
      "Размер массива ответов для тестовой выборки (3000,)\n"
     ]
    }
   ],
   "source": [
    "# перемешивание датасета\n",
    "np.random.seed(12)\n",
    "shuffle_index = np.random.permutation(index.shape[0])\n",
    "X_shuffled, y_shuffled = X[shuffle_index], Y[shuffle_index]\n",
    "\n",
    "# разбивка на обучающую и тестовую выборки\n",
    "train_proportion = 0.7\n",
    "train_test_cut = int(len(X) * train_proportion)\n",
    "\n",
    "X_train, X_test, y_train, y_test = \\\n",
    "    X_shuffled[:train_test_cut], \\\n",
    "    X_shuffled[train_test_cut:], \\\n",
    "    y_shuffled[:train_test_cut], \\\n",
    "    y_shuffled[train_test_cut:]\n",
    "    \n",
    "print(\"Размер массива признаков обучающей выборки\", X_train.shape)\n",
    "print(\"Размер массива признаков тестовой выборки\", X_test.shape)\n",
    "print(\"Размер массива ответов для обучающей выборки\", y_train.shape)\n",
    "print(\"Размер массива ответов для тестовой выборки\", y_test.shape)"
   ]
  },
  {
   "cell_type": "code",
   "execution_count": 10,
   "metadata": {},
   "outputs": [
    {
     "data": {
      "text/plain": [
       "array([[ 1.,  1.,  1., ...,  1.,  1.,  1.],\n",
       "       [41., 61., 50., ..., 59., 53., 35.],\n",
       "       [ 0.,  1.,  3., ...,  0.,  4.,  3.],\n",
       "       ...,\n",
       "       [ 0.,  0.,  0., ...,  0.,  0.,  0.],\n",
       "       [ 0.,  0.,  0., ...,  0.,  0.,  0.],\n",
       "       [35., 85., 62., ..., 48., 69., 49.]])"
      ]
     },
     "execution_count": 10,
     "metadata": {},
     "output_type": "execute_result"
    }
   ],
   "source": [
    "X_train_tr = X_train.transpose()\n",
    "y_train_tr = y_train.reshape(1, y_train.shape[0])\n",
    "X_test_tr = X_test.transpose()\n",
    "y_test_tr = y_test.reshape(1, y_test.shape[0])\n",
    "X_train_tr"
   ]
  },
  {
   "cell_type": "code",
   "execution_count": 11,
   "metadata": {},
   "outputs": [],
   "source": [
    "X_st = X_train_tr.copy()\n",
    "X_st[1, :] = calc_std_feat(X_train_tr[1, :])\n",
    "X_st[3, :] = calc_std_feat(X_train_tr[3, :])\n",
    "X_st[11, :] = calc_std_feat(X_train_tr[11, :])\n",
    "X_test_st = X_test_tr.copy()\n",
    "X_test_st[1, :] = calc_std_feat(X_test_tr[1, :])\n",
    "X_test_st[3, :] = calc_std_feat(X_test_tr[3, :])\n",
    "X_test_st[11, :] = calc_std_feat(X_test_tr[11, :])"
   ]
  },
  {
   "cell_type": "code",
   "execution_count": 12,
   "metadata": {},
   "outputs": [],
   "source": [
    "def log_loss(w, X, y):\n",
    "    m = X.shape[1]\n",
    "    # используем функцию сигмоиды, написанную ранее\n",
    "    A = sigmoid(np.dot(w.T, X))    \n",
    "    loss = -1.0 / m * np.sum(y * np.log(A) + (1 - y) * np.log(1 - A))\n",
    "    loss = np.squeeze(loss)\n",
    "    grad = 1.0 / m * np.dot(X, (A - y).T)    \n",
    "    return loss, grad"
   ]
  },
  {
   "cell_type": "code",
   "execution_count": 13,
   "metadata": {},
   "outputs": [],
   "source": [
    "def optimize(w, X, y, n_iterations, eta):\n",
    "#     потери будем записывать в список для отображения в виде графика\n",
    "    losses = []   \n",
    "    for i in range(n_iterations):        \n",
    "        loss, grad = log_loss(w, X, y)\n",
    "        w = w - eta * grad\n",
    "        losses.append(loss)        \n",
    "    return w, losses"
   ]
  },
  {
   "cell_type": "code",
   "execution_count": 14,
   "metadata": {},
   "outputs": [],
   "source": [
    "def predict(w, X):    \n",
    "    m = X.shape[1] \n",
    "    y_predicted = np.zeros((1, m))\n",
    "    w = w.reshape(X.shape[0], 1)\n",
    "    A = sigmoid(np.dot(w.T, X))  \n",
    "#     За порог отнесения к тому или иному классу примем вероятность 0.5\n",
    "#    for i in range(A.shape[1]):\n",
    "#        if (A[:,i] > 0.5): \n",
    "#            y_predicted[:, i] = 1\n",
    "#        elif (A[:,i] <= 0.5):\n",
    "#            y_predicted[:, i] = 0    \n",
    "    for i in range(A.shape[1]):\n",
    "        y_predicted[:, i] = A[:,i]\n",
    "    return y_predicted"
   ]
  },
  {
   "cell_type": "code",
   "execution_count": 15,
   "metadata": {},
   "outputs": [],
   "source": [
    "def calc_logloss(y, y_pred):\n",
    "    err = - np.mean(y * np.log(y_pred + 1e-12) + (1.0 - y) * np.log(1.0 - y_pred - 1e-12))\n",
    "    return err\n",
    "def eval_model(X, y, iterations, alpha=1e-4, lambda_=1e-8):\n",
    "    np.random.seed(42)\n",
    "    W = np.random.randn(X.shape[0])\n",
    "    n = X.shape[1]\n",
    "    for i in range(1, iterations+1):\n",
    "        z = np.dot(W, X)\n",
    "        y_pred = sigmoid(z)\n",
    "        err = calc_logloss(y, y_pred)\n",
    "        W -= alpha * (1/n * 2 * np.dot((y_pred - y), X.T) + lambda_ * W) \n",
    "        if i % (iterations / 10) == 0:\n",
    "            print(i, W, err)\n",
    "    return W"
   ]
  },
  {
   "cell_type": "code",
   "execution_count": 16,
   "metadata": {},
   "outputs": [
    {
     "name": "stdout",
     "output_type": "stream",
     "text": [
      "Итоговый вектор весов w: [[-1.29149399e+00]\n",
      " [-9.88928065e-04]\n",
      " [-3.44820805e-02]\n",
      " [-8.03069917e-01]\n",
      " [-5.99639989e-01]\n",
      " [ 3.77440169e-01]\n",
      " [ 1.52669755e-01]\n",
      " [ 1.46496000e-01]\n",
      " [-2.60368418e-02]\n",
      " [-2.65229325e-02]\n",
      " [-3.32615414e-02]\n",
      " [ 1.22501174e+00]]\n",
      "Точность на обучающей выборке: 81.245\n",
      "Точность на тестовой выборке: 80.892\n"
     ]
    }
   ],
   "source": [
    "# иницилизируем начальный вектор весов\n",
    "w0 = np.zeros((X_st.shape[0], 1))\n",
    "n_iterations = 1000\n",
    "eta = 0.05\n",
    "w, losses = optimize(w0, X_st, y_train_tr, n_iterations, eta)\n",
    "y_predicted_test = predict(w, X_test_st)\n",
    "y_predicted_train = predict(w, X_st)\n",
    "# В качестве меры точности возьмем долю правильных ответов\n",
    "train_accuracy = 100.0 - np.mean(np.abs(y_predicted_train - y_train_tr)*100.0)\n",
    "test_accuracy = 100.0 - np.mean(np.abs(y_predicted_test-y_test_tr)*100.0)\n",
    "print(f\"Итоговый вектор весов w: {w}\")\n",
    "print(f\"Точность на обучающей выборке: {train_accuracy:.3f}\")\n",
    "print(f\"Точность на тестовой выборке: {test_accuracy:.3f}\")"
   ]
  },
  {
   "cell_type": "code",
   "execution_count": 17,
   "metadata": {},
   "outputs": [],
   "source": [
    "X_test_result = X_test_result.transpose()\n",
    "X_test_result_st = X_test_result.copy()\n",
    "X_test_result_st[1, :] = calc_std_feat(X_test_result[1, :])\n",
    "X_test_result_st[3, :] = calc_std_feat(X_test_result[3, :])\n",
    "X_test_result_st[11, :] = calc_std_feat(X_test_result[11, :])"
   ]
  },
  {
   "cell_type": "code",
   "execution_count": 18,
   "metadata": {},
   "outputs": [],
   "source": [
    "y_result = predict(w, X_test_result_st)"
   ]
  },
  {
   "cell_type": "code",
   "execution_count": 19,
   "metadata": {},
   "outputs": [],
   "source": [
    "submissions = pd.concat([df_test['Id'], pd.Series(y_result[0])], axis=1)"
   ]
  },
  {
   "cell_type": "code",
   "execution_count": 20,
   "metadata": {},
   "outputs": [],
   "source": [
    "submissions = submissions.rename(columns={0: 'choose'})"
   ]
  },
  {
   "cell_type": "code",
   "execution_count": 21,
   "metadata": {},
   "outputs": [],
   "source": [
    "submissions.to_csv('Kalmina_classif_log.csv',index=None)"
   ]
  },
  {
   "cell_type": "code",
   "execution_count": 22,
   "metadata": {},
   "outputs": [
    {
     "name": "stdout",
     "output_type": "stream",
     "text": [
      "50000 [-6.26999699  0.00870362 -0.06567023 -2.97670009  1.57604146  0.9640987\n",
      "  0.70943962  0.7360277   0.1946643   0.14383594 -0.07992809  1.65802707] 0.250019579487941\n",
      "100000 [-6.26999754  0.00870361 -0.06567022 -2.9767002   1.57604162  0.96409877\n",
      "  0.70943963  0.73602784  0.19466427  0.14383618 -0.07991818  1.65802705] 0.25001957948786885\n",
      "150000 [-6.26999754  0.00870361 -0.06567022 -2.9767002   1.57604162  0.96409877\n",
      "  0.70943963  0.73602784  0.19466427  0.14383618 -0.07991818  1.65802705] 0.25001957948786885\n",
      "200000 [-6.26999754  0.00870361 -0.06567022 -2.9767002   1.57604162  0.96409877\n",
      "  0.70943963  0.73602784  0.19466427  0.14383618 -0.07991818  1.65802705] 0.25001957948786885\n",
      "250000 [-6.26999754  0.00870361 -0.06567022 -2.9767002   1.57604162  0.96409877\n",
      "  0.70943963  0.73602784  0.19466427  0.14383618 -0.07991818  1.65802705] 0.25001957948786885\n",
      "300000 [-6.26999754  0.00870361 -0.06567022 -2.9767002   1.57604162  0.96409877\n",
      "  0.70943963  0.73602784  0.19466427  0.14383618 -0.07991818  1.65802705] 0.25001957948786885\n",
      "350000 [-6.26999754  0.00870361 -0.06567022 -2.9767002   1.57604162  0.96409877\n",
      "  0.70943963  0.73602784  0.19466427  0.14383618 -0.07991818  1.65802705] 0.25001957948786885\n",
      "400000 [-6.26999754  0.00870361 -0.06567022 -2.9767002   1.57604162  0.96409877\n",
      "  0.70943963  0.73602784  0.19466427  0.14383618 -0.07991818  1.65802705] 0.25001957948786885\n",
      "450000 [-6.26999754  0.00870361 -0.06567022 -2.9767002   1.57604162  0.96409877\n",
      "  0.70943963  0.73602784  0.19466427  0.14383618 -0.07991818  1.65802705] 0.25001957948786885\n",
      "500000 [-6.26999754  0.00870361 -0.06567022 -2.9767002   1.57604162  0.96409877\n",
      "  0.70943963  0.73602784  0.19466427  0.14383618 -0.07991818  1.65802705] 0.25001957948786885\n"
     ]
    }
   ],
   "source": [
    "W = eval_model(X_st, y_train_tr[0], iterations=500000, alpha=1e-1)"
   ]
  },
  {
   "cell_type": "code",
   "execution_count": 23,
   "metadata": {},
   "outputs": [],
   "source": [
    "y_result_two = predict(W, X_test_result_st)"
   ]
  },
  {
   "cell_type": "code",
   "execution_count": 24,
   "metadata": {},
   "outputs": [],
   "source": [
    "submissions_two = pd.concat([df_test['Id'], pd.Series(y_result_two[0])], axis=1)\n",
    "submissions_two = submissions_two.rename(columns={0: 'choose'})\n",
    "submissions_two.to_csv('Kalmina_classif_log_two.csv',index=None)"
   ]
  },
  {
   "cell_type": "code",
   "execution_count": 26,
   "metadata": {},
   "outputs": [
    {
     "data": {
      "text/plain": [
       "array([[0.01496774, 0.17088878, 0.01287611, ..., 0.32096932, 0.90026977,\n",
       "        0.01824704]])"
      ]
     },
     "execution_count": 26,
     "metadata": {},
     "output_type": "execute_result"
    }
   ],
   "source": [
    "y_result_two"
   ]
  },
  {
   "cell_type": "code",
   "execution_count": null,
   "metadata": {},
   "outputs": [],
   "source": []
  }
 ],
 "metadata": {
  "kernelspec": {
   "display_name": "Python 3",
   "language": "python",
   "name": "python3"
  },
  "language_info": {
   "codemirror_mode": {
    "name": "ipython",
    "version": 3
   },
   "file_extension": ".py",
   "mimetype": "text/x-python",
   "name": "python",
   "nbconvert_exporter": "python",
   "pygments_lexer": "ipython3",
   "version": "3.7.6"
  }
 },
 "nbformat": 4,
 "nbformat_minor": 4
}
